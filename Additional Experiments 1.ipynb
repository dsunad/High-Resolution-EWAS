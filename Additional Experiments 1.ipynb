{
 "cells": [
  {
   "cell_type": "code",
   "execution_count": 37,
   "metadata": {},
   "outputs": [
    {
     "data": {
      "text/html": [
       "'matrix'"
      ],
      "text/latex": [
       "'matrix'"
      ],
      "text/markdown": [
       "'matrix'"
      ],
      "text/plain": [
       "[1] \"matrix\""
      ]
     },
     "metadata": {},
     "output_type": "display_data"
    },
    {
     "data": {
      "text/html": [
       "<table>\n",
       "<caption>A matrix: 6 × 6 of type dbl</caption>\n",
       "<tbody>\n",
       "\t<tr><td>0.2909732</td><td>0.3250748</td><td>0.3746402</td><td>0.2802173</td><td>0.3674263</td><td>0.3813111</td></tr>\n",
       "\t<tr><td>0.2884468</td><td>0.2823117</td><td>0.3087597</td><td>0.2978464</td><td>0.3128187</td><td>0.2934819</td></tr>\n",
       "\t<tr><td>0.5704537</td><td>0.5644074</td><td>0.5384074</td><td>0.6112050</td><td>0.5272176</td><td>0.5004729</td></tr>\n",
       "\t<tr><td>0.3517885</td><td>0.3026490</td><td>0.3192236</td><td>0.3261329</td><td>0.3498188</td><td>0.2905791</td></tr>\n",
       "\t<tr><td>0.3558526</td><td>0.3429035</td><td>0.3511955</td><td>0.3782821</td><td>0.3703957</td><td>0.3013093</td></tr>\n",
       "\t<tr><td>0.3606192</td><td>0.3488377</td><td>0.3223230</td><td>0.4160842</td><td>0.3364454</td><td>0.3186609</td></tr>\n",
       "</tbody>\n",
       "</table>\n"
      ],
      "text/latex": [
       "A matrix: 6 × 6 of type dbl\n",
       "\\begin{tabular}{llllll}\n",
       "\t 0.2909732 & 0.3250748 & 0.3746402 & 0.2802173 & 0.3674263 & 0.3813111\\\\\n",
       "\t 0.2884468 & 0.2823117 & 0.3087597 & 0.2978464 & 0.3128187 & 0.2934819\\\\\n",
       "\t 0.5704537 & 0.5644074 & 0.5384074 & 0.6112050 & 0.5272176 & 0.5004729\\\\\n",
       "\t 0.3517885 & 0.3026490 & 0.3192236 & 0.3261329 & 0.3498188 & 0.2905791\\\\\n",
       "\t 0.3558526 & 0.3429035 & 0.3511955 & 0.3782821 & 0.3703957 & 0.3013093\\\\\n",
       "\t 0.3606192 & 0.3488377 & 0.3223230 & 0.4160842 & 0.3364454 & 0.3186609\\\\\n",
       "\\end{tabular}\n"
      ],
      "text/markdown": [
       "\n",
       "A matrix: 6 × 6 of type dbl\n",
       "\n",
       "| 0.2909732 | 0.3250748 | 0.3746402 | 0.2802173 | 0.3674263 | 0.3813111 |\n",
       "| 0.2884468 | 0.2823117 | 0.3087597 | 0.2978464 | 0.3128187 | 0.2934819 |\n",
       "| 0.5704537 | 0.5644074 | 0.5384074 | 0.6112050 | 0.5272176 | 0.5004729 |\n",
       "| 0.3517885 | 0.3026490 | 0.3192236 | 0.3261329 | 0.3498188 | 0.2905791 |\n",
       "| 0.3558526 | 0.3429035 | 0.3511955 | 0.3782821 | 0.3703957 | 0.3013093 |\n",
       "| 0.3606192 | 0.3488377 | 0.3223230 | 0.4160842 | 0.3364454 | 0.3186609 |\n",
       "\n"
      ],
      "text/plain": [
       "     [,1]      [,2]      [,3]      [,4]      [,5]      [,6]     \n",
       "[1,] 0.2909732 0.3250748 0.3746402 0.2802173 0.3674263 0.3813111\n",
       "[2,] 0.2884468 0.2823117 0.3087597 0.2978464 0.3128187 0.2934819\n",
       "[3,] 0.5704537 0.5644074 0.5384074 0.6112050 0.5272176 0.5004729\n",
       "[4,] 0.3517885 0.3026490 0.3192236 0.3261329 0.3498188 0.2905791\n",
       "[5,] 0.3558526 0.3429035 0.3511955 0.3782821 0.3703957 0.3013093\n",
       "[6,] 0.3606192 0.3488377 0.3223230 0.4160842 0.3364454 0.3186609"
      ]
     },
     "metadata": {},
     "output_type": "display_data"
    },
    {
     "data": {
      "text/html": [
       "'matrix'"
      ],
      "text/latex": [
       "'matrix'"
      ],
      "text/markdown": [
       "'matrix'"
      ],
      "text/plain": [
       "[1] \"matrix\""
      ]
     },
     "metadata": {},
     "output_type": "display_data"
    },
    {
     "data": {
      "text/html": [
       "<table>\n",
       "<caption>A matrix: 2 × 6 of type dbl</caption>\n",
       "<tbody>\n",
       "\t<tr><td> 0.00000</td><td> 0.00000</td><td> 0.00000</td><td> 0.0000</td><td> 0.00000</td><td> 0.00000</td></tr>\n",
       "\t<tr><td>23.94774</td><td>42.26709</td><td>37.35212</td><td>17.2174</td><td>20.23533</td><td>38.89563</td></tr>\n",
       "</tbody>\n",
       "</table>\n"
      ],
      "text/latex": [
       "A matrix: 2 × 6 of type dbl\n",
       "\\begin{tabular}{llllll}\n",
       "\t  0.00000 &  0.00000 &  0.00000 &  0.0000 &  0.00000 &  0.00000\\\\\n",
       "\t 23.94774 & 42.26709 & 37.35212 & 17.2174 & 20.23533 & 38.89563\\\\\n",
       "\\end{tabular}\n"
      ],
      "text/markdown": [
       "\n",
       "A matrix: 2 × 6 of type dbl\n",
       "\n",
       "|  0.00000 |  0.00000 |  0.00000 |  0.0000 |  0.00000 |  0.00000 |\n",
       "| 23.94774 | 42.26709 | 37.35212 | 17.2174 | 20.23533 | 38.89563 |\n",
       "\n"
      ],
      "text/plain": [
       "     [,1]     [,2]     [,3]     [,4]    [,5]     [,6]    \n",
       "[1,]  0.00000  0.00000  0.00000  0.0000  0.00000  0.00000\n",
       "[2,] 23.94774 42.26709 37.35212 17.2174 20.23533 38.89563"
      ]
     },
     "metadata": {},
     "output_type": "display_data"
    }
   ],
   "source": [
    "set.seed(123)\n",
    "###define a function to draw samples from a Dirichlet distribution\n",
    "rDirichlet <- function(alpha_vec){\n",
    "\tnum <- length(alpha_vec)\n",
    "\ttemp <- rgamma(num, shape = alpha_vec, rate = 1)\n",
    "\treturn(temp / sum(temp))\n",
    "}\n",
    "\n",
    "n <- 180     #number of samples \n",
    "n1 <- 60    #number of controls\n",
    "n2 <- 120    #number of cases \n",
    "\n",
    "m <- 2000   #number of CpG sites\n",
    "K <- 3       #underlying cell type number\n",
    "\t\n",
    "###simulate methylation baseline profiles\n",
    "#assume cell type 1 and cell type 2 are from the same lineage\n",
    "#cell type 1\n",
    "methy1 <- rbeta(m,3,6)\n",
    "#cell type 2 \n",
    "methy2 <- methy1 + rnorm(m, sd=0.01)\n",
    "ind <- sample(1:m, m/5) \n",
    "methy2[ind] <- rbeta(length(ind),3,6)\n",
    "\n",
    "#cell type 3\n",
    "methy3 <- rbeta(m,3,6)\n",
    "mu <- cbind(methy1, methy2, methy3)\n",
    "\n",
    "\n",
    "\n",
    "#observed phenotype\n",
    "p1=2\n",
    "X=rbind(c(rep(0,n1),rep(1,n2)),runif(n,min=10,max=50))#(2,180),这两个性状一个是定性的，一个是定量的，下面也是\n",
    "beta=array(0,dim=c(m,K,p1))\n",
    "\n",
    "m_common <- 10\n",
    "max_signal <- 0.15\n",
    "min_signal <- 0.07\n",
    "\n",
    "#we allow different signs and magnitudes\n",
    "signs <- sample(c(-1,1), m_common*K, replace=TRUE)\n",
    "beta[1:m_common,1:K,1] <- signs * runif(m_common*K, min=min_signal, max=max_signal)\n",
    "\n",
    "m_seperate <- 10\n",
    "signs <- sample(c(-1,1), m_seperate*2, replace=TRUE)\n",
    "beta[m_common+(1:m_seperate),1:2,1] <- signs * \n",
    "\t\t\t\t\trunif(m_seperate*2, min=min_signal, max=max_signal)\n",
    "\n",
    "signs <- sample(c(-1,1), m_seperate, replace=TRUE)\n",
    "beta[m_common+m_seperate+(1:m_seperate),K,1] <- signs * \n",
    "\t\t\t\t\trunif(m_seperate, min=min_signal, max=max_signal)\n",
    "\n",
    "#age\n",
    "base <- 50\n",
    "m_common <- 10\n",
    "max_signal <- 0.015\n",
    "min_signal <- 0.007\n",
    "signs <- sample(c(-1,1), m_common*K, replace=TRUE)\n",
    "beta[base+1:m_common,1:K,2] <- signs * \n",
    "\t\t\t\t\trunif(m_common*K, min=min_signal, max=max_signal)\n",
    "\n",
    "m_seperate <- 10\n",
    "signs <- sample(c(-1,1), m_seperate*2, replace=TRUE)\n",
    "beta[base+m_common+(1:m_seperate),1:2,2] <- signs * \n",
    "\t\t\t\t\trunif(m_seperate*2, min=min_signal, max=max_signal)\n",
    "\n",
    "signs <- sample(c(-1,1), m_seperate, replace=TRUE)\n",
    "beta[base+m_common+m_seperate+(1:m_seperate),K,2] <- signs * \n",
    "\t\t\t\t\trunif(m_seperate, min=min_signal, max=max_signal)\n",
    "\n",
    "\n",
    "\n",
    "\n",
    "\n",
    "\n",
    "\n",
    "\n",
    "\n",
    "\n",
    "\n",
    "\n",
    "\n",
    "\n",
    "\n",
    "###generate the cellular compositions \n",
    "P <- sapply(1:n, function(i){\n",
    "\t\t\t\tif(X[1,i]==0){ #if control\n",
    "\t\t\t\t\trDirichlet(c(4,4, 2+X[2,i]/10))\n",
    "\t\t\t\t}else{\n",
    "\t\t\t\t\trDirichlet(c(4,4, 5+X[2,i]/10))\n",
    "\t\t\t\t}\t\n",
    "\t\t\t})\n",
    "\n",
    "###generate the observed methylation profiles \n",
    "Ometh <- NULL\n",
    "for(i in 1:n){\n",
    "\tutmp <- t(sapply(1:m, function(j){\n",
    "\t\t\t\t\ttmp1 <- colSums(X[ ,i] * t(beta[j, , ]))\n",
    "\t\t\t\t\trnorm(K,mean=mu[j, ]+tmp1,sd=0.01)\n",
    "\t\t\t\t}))\n",
    "\ttmp2 <- colSums(P[ ,i] * t(utmp))\n",
    "\tOmeth <- cbind(Ometh, tmp2 + rnorm(m, sd = 0.01))\n",
    "}\n",
    "\n",
    "#constrain methylation values between 0 and 1\n",
    "Ometh[Ometh > 1] <- 1\n",
    "\n",
    "Ometh[Ometh < 0] <- 0\n",
    "\n",
    "## ----data-preparation2-----------------------------------------------------\n",
    "#the class of the methylation matrix\n",
    "class(Ometh)\n",
    "\n",
    "#the values in the methylation matrix\n",
    "head(Ometh[,1:6])\n",
    "\n",
    "#the class of the covariate matrix\n",
    "class(X)\n",
    "\n",
    "#the values in the covariate matrix\n",
    "X[ ,1:6]\n",
    "\n",
    "## ----model1----------------------------------------------------------------\n"
   ]
  },
  {
   "cell_type": "code",
   "execution_count": 51,
   "metadata": {},
   "outputs": [
    {
     "name": "stderr",
     "output_type": "stream",
     "text": [
      "  Initialization Done.\n",
      "\n",
      "  Implementing EM algorithm... \n",
      "\n"
     ]
    },
    {
     "name": "stdout",
     "output_type": "stream",
     "text": [
      "Iteration: 1\t observed-data log likelihood: 784298.613136\n",
      "Iteration: 2\t observed-data log likelihood: 842878.408853\n",
      "Iteration: 3\t observed-data log likelihood: 887684.533579\n",
      "Iteration: 4\t observed-data log likelihood: 925336.546910\n",
      "Iteration: 5\t observed-data log likelihood: 957552.516807\n",
      "Iteration: 6\t observed-data log likelihood: 984931.145645\n",
      "Iteration: 7\t observed-data log likelihood: 1007763.723921\n",
      "Iteration: 8\t observed-data log likelihood: 1026321.583850\n",
      "Iteration: 9\t observed-data log likelihood: 1040968.095085\n",
      "Iteration: 10\t observed-data log likelihood: 1052177.145534\n",
      "Iteration: 11\t observed-data log likelihood: 1060518.262052\n",
      "Iteration: 12\t observed-data log likelihood: 1066576.776503\n",
      "Iteration: 13\t observed-data log likelihood: 1070897.420527\n",
      "Iteration: 14\t observed-data log likelihood: 1073948.746393\n",
      "Iteration: 15\t observed-data log likelihood: 1076107.838817\n",
      "Iteration: 16\t observed-data log likelihood: 1077655.277233\n",
      "Iteration: 17\t observed-data log likelihood: 1078792.573124\n",
      "Iteration: 18\t observed-data log likelihood: 1079660.020237\n",
      "Iteration: 19\t observed-data log likelihood: 1080350.259123\n",
      "Iteration: 20\t observed-data log likelihood: 1080923.530949\n",
      "Iteration: 21\t observed-data log likelihood: 1081418.229418\n",
      "Iteration: 22\t observed-data log likelihood: 1081858.935340\n",
      "Iteration: 23\t observed-data log likelihood: 1082261.180598\n",
      "Iteration: 24\t observed-data log likelihood: 1082634.715388\n",
      "Iteration: 25\t observed-data log likelihood: 1082985.886255\n",
      "Iteration: 26\t observed-data log likelihood: 1083318.822116\n",
      "Iteration: 27\t observed-data log likelihood: 1083636.270406\n",
      "Iteration: 28\t observed-data log likelihood: 1083940.183561\n",
      "Iteration: 29\t observed-data log likelihood: 1084231.957766\n",
      "Iteration: 30\t observed-data log likelihood: 1084512.643851\n",
      "Iteration: 31\t observed-data log likelihood: 1084783.066719\n",
      "Iteration: 32\t observed-data log likelihood: 1085043.896585\n",
      "Iteration: 33\t observed-data log likelihood: 1085295.693248\n",
      "Iteration: 34\t observed-data log likelihood: 1085538.934456\n",
      "Iteration: 35\t observed-data log likelihood: 1085774.034728\n",
      "Iteration: 36\t observed-data log likelihood: 1086001.358443\n",
      "Iteration: 37\t observed-data log likelihood: 1086221.229439\n",
      "Iteration: 38\t observed-data log likelihood: 1086433.938513\n",
      "Iteration: 39\t observed-data log likelihood: 1086639.749568\n",
      "Iteration: 40\t observed-data log likelihood: 1086838.905386\n",
      "Iteration: 41\t observed-data log likelihood: 1087031.631742\n",
      "Iteration: 42\t observed-data log likelihood: 1087218.146152\n",
      "Iteration: 43\t observed-data log likelihood: 1087398.666928\n",
      "Iteration: 44\t observed-data log likelihood: 1087573.383403\n",
      "Iteration: 45\t observed-data log likelihood: 1087742.499704\n",
      "Iteration: 46\t observed-data log likelihood: 1087906.221358\n",
      "Iteration: 47\t observed-data log likelihood: 1088064.739863\n",
      "Iteration: 48\t observed-data log likelihood: 1088218.213769\n",
      "Iteration: 49\t observed-data log likelihood: 1088366.632453\n",
      "Iteration: 50\t observed-data log likelihood: 1088510.404553\n"
     ]
    },
    {
     "name": "stderr",
     "output_type": "stream",
     "text": [
      "  Done! \n",
      "\n",
      "  Calculating p-values...\n",
      "\n",
      "  Done!\n",
      "\n"
     ]
    }
   ],
   "source": [
    "library(HIREewas)\n",
    "ret_list <- HIRE(Ometh, X, num_celltype=K, tol=10^(-5), num_iter=50, alpha=0.01)\n",
    "\n",
    "\n",
    "\n"
   ]
  },
  {
   "cell_type": "code",
   "execution_count": 53,
   "metadata": {},
   "outputs": [
    {
     "data": {
      "image/png": "[encoded data removed]",
      "text/plain": [
       "plot without title"
      ]
     },
     "metadata": {},
     "output_type": "display_data"
    },
    {
     "data": {
      "image/png": "[encoded data removed]",
      "text/plain": [
       "Plot with title \"Color Key\""
      ]
     },
     "metadata": {},
     "output_type": "display_data"
    },
    {
     "data": {
      "image/png": "[encoded data removed]",
      "text/plain": [
       "Plot with title \"Color Key\""
      ]
     },
     "metadata": {},
     "output_type": "display_data"
    }
   ],
   "source": [
    "par(mfrow=c(1,3))\n",
    "plot(ret_list$P_t[2, ], P[2, ], xlim=c(0,1), ylim=c(0,1))\n",
    "abline(a=0, b=1, col=\"red\")\n",
    "\n",
    "plot(ret_list$P_t[1, ], P[1, ], xlim=c(0,1), ylim=c(0,1))\n",
    "abline(a=0, b=1, col=\"red\")\n",
    "\n",
    "plot(ret_list$P_t[3, ], P[3, ], xlim=c(0,1), ylim=c(0,1))\n",
    "abline(a=0, b=1, col=\"red\")\n",
    "riskCpGpattern(ret_list$pvalues[1:100, c(2,1,3)], \n",
    "\t\tmain_title=\"Detected association pattern\\n with age\", hc_row_ind = FALSE)\n",
    "riskCpGpattern(ret_list$pvalues[1:100, K+c(2,1,3)], \n",
    "\t\tmain_title=\"Detected association pattern\\n with age\", hc_row_ind = FALSE)"
   ]
  },
  {
   "cell_type": "code",
   "execution_count": 32,
   "metadata": {},
   "outputs": [],
   "source": [
    "help(HIRE)"
   ]
  },
  {
   "cell_type": "code",
   "execution_count": null,
   "metadata": {},
   "outputs": [],
   "source": []
  }
 ],
 "metadata": {
  "kernelspec": {
   "display_name": "R",
   "language": "R",
   "name": "ir"
  },
  "language_info": {
   "codemirror_mode": "r",
   "file_extension": ".r",
   "mimetype": "text/x-r-source",
   "name": "R",
   "pygments_lexer": "r",
   "version": "3.6.1"
  }
 },
 "nbformat": 4,
 "nbformat_minor": 2
}
